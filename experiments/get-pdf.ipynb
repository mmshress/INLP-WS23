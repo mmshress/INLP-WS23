{
 "cells": [
  {
   "cell_type": "code",
   "execution_count": 1,
   "metadata": {},
   "outputs": [],
   "source": [
    "import json\n",
    "import PyPDF2\n",
    "\n",
    "from llmlegalassistant.data import articlesscraper\n",
    "from langchain_community.document_loaders import PyPDFLoader, UnstructuredPDFLoader"
   ]
  },
  {
   "cell_type": "code",
   "execution_count": 2,
   "metadata": {},
   "outputs": [],
   "source": [
    "loader = PyPDFLoader(\"test-data/pdfs/32008R1099.pdf\")\n",
    "document = loader.load()"
   ]
  },
  {
   "cell_type": "code",
   "execution_count": 3,
   "metadata": {},
   "outputs": [],
   "source": [
    "doc = \"\"\n",
    "metadata = \"\"\n",
    "for index, page in enumerate(document):\n",
    "    doc = \"\".join([doc, f\"\\n=========={index}==========\\n\", page.page_content])\n",
    "    metadata = \"\".join([metadata, f\"\\n=========={index}==========\\n\", json.dumps(page.metadata)])\n",
    "\n",
    "with open(\"test-data/txts/32008R1099-PyPDFLoader.txt\", \"w\", encoding=\"utf-8\") as file:\n",
    "    file.write(doc)\n",
    "\n",
    "with open(\"test-data/txts/32008R1099-metadata-PyPDFLoader.txt\", \"w\", encoding=\"utf-8\") as file:\n",
    "    file.write(metadata)\n"
   ]
  },
  {
   "cell_type": "code",
   "execution_count": 4,
   "metadata": {},
   "outputs": [],
   "source": [
    "doc = \"\"\n",
    "with open(\"test-data/pdfs/32008R1099.pdf\", \"rb\") as file:\n",
    "    reader = PyPDF2.PdfReader(file)\n",
    "\n",
    "    for index, page in enumerate(reader.pages):\n",
    "        text = page.extract_text()\n",
    "        doc += f\"\\n=========={index}==========\\n\" + text\n",
    "\n",
    "with open(\"test-data/txts/32008R1099-PyPDF2.txt\", \"w\", encoding=\"utf-8\") as file:\n",
    "    file.write(doc)"
   ]
  },
  {
   "cell_type": "code",
   "execution_count": 9,
   "metadata": {},
   "outputs": [],
   "source": [
    "# {'single', 'elements', 'paged'}\n",
    "loader = UnstructuredPDFLoader(\"test-data/pdfs/32008R1099.pdf\", mode=\"paged\")\n",
    "document = loader.load()"
   ]
  },
  {
   "cell_type": "code",
   "execution_count": 10,
   "metadata": {},
   "outputs": [],
   "source": [
    "doc = \"\"\n",
    "metadata = \"\"\n",
    "for index, page in enumerate(document):\n",
    "    doc = \"\".join([doc, f\"\\n=========={index}==========\\n\", page.page_content])\n",
    "    metadata = \"\".join([metadata, f\"\\n=========={index}==========\\n\", json.dumps(page.metadata)])\n",
    "\n",
    "with open(\"test-data/txts/32008R1099-paged.txt\", \"w\", encoding=\"utf-8\") as file:\n",
    "    file.write(doc)\n",
    "\n",
    "with open(\"test-data/txts/32008R1099-metadata-paged.txt\", \"w\", encoding=\"utf-8\") as file:\n",
    "    file.write(metadata)"
   ]
  }
 ],
 "metadata": {
  "kernelspec": {
   "display_name": "nlptrans.env",
   "language": "python",
   "name": "python3"
  },
  "language_info": {
   "codemirror_mode": {
    "name": "ipython",
    "version": 3
   },
   "file_extension": ".py",
   "mimetype": "text/x-python",
   "name": "python",
   "nbconvert_exporter": "python",
   "pygments_lexer": "ipython3",
   "version": "3.11.5"
  }
 },
 "nbformat": 4,
 "nbformat_minor": 2
}
