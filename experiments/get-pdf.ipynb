{
 "cells": [
  {
   "cell_type": "code",
   "execution_count": 32,
   "metadata": {},
   "outputs": [],
   "source": [
    "import json\n",
    "import PyPDF2\n",
    "\n",
    "from llmlegalassistant.data import articlesscraper\n",
    "from langchain_community.document_loaders import PyPDFLoader\n",
    "\n"
   ]
  },
  {
   "cell_type": "code",
   "execution_count": 8,
   "metadata": {},
   "outputs": [],
   "source": [
    "loader = PyPDFLoader(\"../../CELEX 32008R1099 EN TXT.pdf\")\n",
    "document = loader.load()"
   ]
  },
  {
   "cell_type": "code",
   "execution_count": 31,
   "metadata": {},
   "outputs": [],
   "source": [
    "doc = \"\"\n",
    "metadata = \"\"\n",
    "for index, page in enumerate(document):\n",
    "    doc = \"\".join([doc, f\"\\n=========={index}==========\\n\", page.page_content])\n",
    "    metadata = \"\".join([metadata, f\"\\n=========={index}==========\\n\", json.dumps(page.metadata)])\n",
    "\n",
    "with open(\"../../test1-document.txt\", \"w\", encoding=\"utf-8\") as file:\n",
    "    file.write(doc)\n",
    "\n",
    "with open(\"../../test1-metadata.json\", \"w\", encoding=\"utf-8\") as file:\n",
    "    file.write(metadata)\n"
   ]
  },
  {
   "cell_type": "code",
   "execution_count": 48,
   "metadata": {},
   "outputs": [
    {
     "ename": "AttributeError",
     "evalue": "'PageObject' object has no attribute 'original_page'",
     "output_type": "error",
     "traceback": [
      "\u001b[0;31m---------------------------------------------------------------------------\u001b[0m",
      "\u001b[0;31mAttributeError\u001b[0m                            Traceback (most recent call last)",
      "\u001b[1;32m/home/kushal/Projects/llmlegalassistant/INLP-WS23/experiments/get-pdf.ipynb Cell 4\u001b[0m line \u001b[0;36m6\n\u001b[1;32m      <a href='vscode-notebook-cell:/home/kushal/Projects/llmlegalassistant/INLP-WS23/experiments/get-pdf.ipynb#X13sZmlsZQ%3D%3D?line=2'>3</a>\u001b[0m     reader \u001b[39m=\u001b[39m PyPDF2\u001b[39m.\u001b[39mPdfReader(file)\n\u001b[1;32m      <a href='vscode-notebook-cell:/home/kushal/Projects/llmlegalassistant/INLP-WS23/experiments/get-pdf.ipynb#X13sZmlsZQ%3D%3D?line=4'>5</a>\u001b[0m     \u001b[39mfor\u001b[39;00m index, page \u001b[39min\u001b[39;00m \u001b[39menumerate\u001b[39m(reader\u001b[39m.\u001b[39mpages):\n\u001b[0;32m----> <a href='vscode-notebook-cell:/home/kushal/Projects/llmlegalassistant/INLP-WS23/experiments/get-pdf.ipynb#X13sZmlsZQ%3D%3D?line=5'>6</a>\u001b[0m         text \u001b[39m=\u001b[39m page\u001b[39m.\u001b[39;49moriginal_page()\n\u001b[1;32m      <a href='vscode-notebook-cell:/home/kushal/Projects/llmlegalassistant/INLP-WS23/experiments/get-pdf.ipynb#X13sZmlsZQ%3D%3D?line=6'>7</a>\u001b[0m         doc \u001b[39m+\u001b[39m\u001b[39m=\u001b[39m \u001b[39mf\u001b[39m\u001b[39m\"\u001b[39m\u001b[39m\\n\u001b[39;00m\u001b[39m==========\u001b[39m\u001b[39m{\u001b[39;00mindex\u001b[39m}\u001b[39;00m\u001b[39m==========\u001b[39m\u001b[39m\\n\u001b[39;00m\u001b[39m\"\u001b[39m \u001b[39m+\u001b[39m text\n\u001b[1;32m      <a href='vscode-notebook-cell:/home/kushal/Projects/llmlegalassistant/INLP-WS23/experiments/get-pdf.ipynb#X13sZmlsZQ%3D%3D?line=8'>9</a>\u001b[0m \u001b[39mwith\u001b[39;00m \u001b[39mopen\u001b[39m(\u001b[39m\"\u001b[39m\u001b[39m../../test1-document-formatted.txt\u001b[39m\u001b[39m\"\u001b[39m, \u001b[39m\"\u001b[39m\u001b[39mw\u001b[39m\u001b[39m\"\u001b[39m, encoding\u001b[39m=\u001b[39m\u001b[39m\"\u001b[39m\u001b[39mutf-8\u001b[39m\u001b[39m\"\u001b[39m) \u001b[39mas\u001b[39;00m file:\n",
      "\u001b[0;31mAttributeError\u001b[0m: 'PageObject' object has no attribute 'original_page'"
     ]
    }
   ],
   "source": [
    "doc = \"\"\n",
    "with open(\"../../CELEX 32008R1099 EN TXT.pdf\", \"rb\") as file:\n",
    "    reader = PyPDF2.PdfReader(file)\n",
    "\n",
    "    for index, page in enumerate(reader.pages):\n",
    "        text = page.extract_text()\n",
    "        doc += f\"\\n=========={index}==========\\n\" + text\n",
    "\n",
    "with open(\"../../test1-document-formatted.txt\", \"w\", encoding=\"utf-8\") as file:\n",
    "    file.write(doc)"
   ]
  }
 ],
 "metadata": {
  "kernelspec": {
   "display_name": "nlptrans.env",
   "language": "python",
   "name": "python3"
  },
  "language_info": {
   "codemirror_mode": {
    "name": "ipython",
    "version": 3
   },
   "file_extension": ".py",
   "mimetype": "text/x-python",
   "name": "python",
   "nbconvert_exporter": "python",
   "pygments_lexer": "ipython3",
   "version": "3.11.6"
  }
 },
 "nbformat": 4,
 "nbformat_minor": 2
}
