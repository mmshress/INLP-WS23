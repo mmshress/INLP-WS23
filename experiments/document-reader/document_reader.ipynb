{
 "cells": [
  {
   "cell_type": "code",
   "execution_count": 1,
   "metadata": {},
   "outputs": [],
   "source": [
    "import os\n",
    "\n",
    "from llama_index.core import SimpleDirectoryReader\n",
    "\n",
    "from llmlegalassistant.splitter import SplitterFactory\n",
    "from llmlegalassistant.utils import get_articles_dir"
   ]
  },
  {
   "cell_type": "code",
   "execution_count": 12,
   "metadata": {},
   "outputs": [],
   "source": [
    "splitter = SplitterFactory.generate_splitter(\"SentenceSplitter\")\n",
    "\n",
    "document_dir = os.path.join(get_articles_dir(), \"txts\")\n",
    "documents = SimpleDirectoryReader(input_dir=document_dir).load_data()\n",
    "\n",
    "documents_nodes = splitter.get_nodes_from_documents(documents)"
   ]
  },
  {
   "cell_type": "code",
   "execution_count": 17,
   "metadata": {},
   "outputs": [
    {
     "name": "stdout",
     "output_type": "stream",
     "text": [
      "['id_', 'embedding', 'metadata', 'excluded_embed_metadata_keys', 'excluded_llm_metadata_keys', 'relationships', 'text', 'start_char_idx', 'end_char_idx', 'text_template', 'metadata_template', 'metadata_seperator', '__config__', '__fields__', '__exclude_fields__', '__include_fields__', '__validators__', '__pre_root_validators__', '__post_root_validators__', '__schema_cache__', '__json_encoder__', '__custom_root_type__', '__private_attributes__', '__slots__', '__hash__', '__class_vars__', '__module__', '__annotations__', 'class_name', 'hash', 'get_type', 'get_content', 'get_metadata_str', 'set_content', 'get_node_info', 'get_text', 'node_info', '__doc__', '__abstractmethods__', '_abc_impl', '__signature__', 'Config', 'node_id', 'source_node', 'prev_node', 'next_node', 'parent_node', 'child_nodes', 'ref_doc_id', 'extra_info', '__str__', 'get_embedding', 'as_related_node_info', 'json', 'dict', '__getstate__', '__setstate__', 'to_dict', 'to_json', 'from_dict', 'from_json', '__init__', '__setattr__', '_init_private_attributes', '_enforce_dict_if_root', 'parse_obj', 'parse_raw', 'parse_file', 'from_orm', 'construct', '_copy_and_set_values', 'copy', 'schema', 'schema_json', '__get_validators__', 'validate', '_decompose_class', '_get_value', '__try_update_forward_refs__', 'update_forward_refs', '__iter__', '_iter', '_calculate_keys', '__eq__', '__repr_args__', '__fields_set__', '__dict__', '__repr_name__', '__repr_str__', '__pretty__', '__repr__', '__rich_repr__', '__new__', '__getattribute__', '__delattr__', '__lt__', '__le__', '__ne__', '__gt__', '__ge__', '__reduce_ex__', '__reduce__', '__subclasshook__', '__init_subclass__', '__format__', '__sizeof__', '__dir__', '__class__']\n"
     ]
    }
   ],
   "source": [
    "print(documents_nodes[0].__dir__())"
   ]
  },
  {
   "cell_type": "code",
   "execution_count": null,
   "metadata": {},
   "outputs": [],
   "source": [
    "\"\"\"\n",
    "splitter.__dir__()\n",
    "------------------\n",
    "['include_metadata', 'include_prev_next_rel', 'callback_manager', 'id_func', 'chunk_size', 'chunk_overlap', 'separator', 'paragraph_separator', 'secondary_chunking_regex', '__config__', '__fields__', '__exclude_fields__', '__include_fields__', '__validators__', '__pre_root_validators__', '__post_root_validators__', '__schema_cache__', '__json_encoder__', '__custom_root_type__', '__private_attributes__', '__slots__', '__hash__', '__class_vars__', '__module__', '__annotations__', '__doc__', '__init__', 'from_defaults', 'class_name', 'split_text_metadata_aware', 'split_text', '_split_text', '_split', '_merge', '_postprocess_chunks', '_token_size', '_get_splits_by_fns', '_chunking_tokenizer_fn', '_split_fns', '_sub_sentence_split_fns', '_tokenizer', '__abstractmethods__', '_abc_impl', '__signature__', 'split_texts_metadata_aware', '_get_metadata_str', '_parse_nodes', 'split_texts', 'Config', '_validate_id_func', 'get_nodes_from_documents', '__call__', 'acall', 'json', 'dict', '__getstate__', '__setstate__', 'to_dict', 'to_json', 'from_dict', 'from_json', '__setattr__', '_init_private_attributes', '_enforce_dict_if_root', 'parse_obj', 'parse_raw', 'parse_file', 'from_orm', 'construct', '_copy_and_set_values', 'copy', 'schema', 'schema_json', '__get_validators__', 'validate', '_decompose_class', '_get_value', '__try_update_forward_refs__', 'update_forward_refs', '__iter__', '_iter', '_calculate_keys', '__eq__', '__repr_args__', '__fields_set__', '__dict__', '__repr_name__', '__repr_str__', '__pretty__', '__str__', '__repr__', '__rich_repr__', '__new__', '__getattribute__', '__delattr__', '__lt__', '__le__', '__ne__', '__gt__', '__ge__', '__reduce_ex__', '__reduce__', '__subclasshook__', '__init_subclass__', '__format__', '__sizeof__', '__dir__', '__class__']\n",
    "\n",
    "documents_nodes[0].__dir__()\n",
    "----------------------------\n",
    "['id_', 'embedding', 'metadata', 'excluded_embed_metadata_keys', 'excluded_llm_metadata_keys', 'relationships', 'text', 'start_char_idx', 'end_char_idx', 'text_template', 'metadata_template', 'metadata_seperator', '__config__', '__fields__', '__exclude_fields__', '__include_fields__', '__validators__', '__pre_root_validators__', '__post_root_validators__', '__schema_cache__', '__json_encoder__', '__custom_root_type__', '__private_attributes__', '__slots__', '__hash__', '__class_vars__', '__module__', '__annotations__', 'class_name', 'hash', 'get_type', 'get_content', 'get_metadata_str', 'set_content', 'get_node_info', 'get_text', 'node_info', '__doc__', '__abstractmethods__', '_abc_impl', '__signature__', 'Config', 'node_id', 'source_node', 'prev_node', 'next_node', 'parent_node', 'child_nodes', 'ref_doc_id', 'extra_info', '__str__', 'get_embedding', 'as_related_node_info', 'json', 'dict', '__getstate__', '__setstate__', 'to_dict', 'to_json', 'from_dict', 'from_json', '__init__', '__setattr__', '_init_private_attributes', '_enforce_dict_if_root', 'parse_obj', 'parse_raw', 'parse_file', 'from_orm', 'construct', '_copy_and_set_values', 'copy', 'schema', 'schema_json', '__get_validators__', 'validate', '_decompose_class', '_get_value', '__try_update_forward_refs__', 'update_forward_refs', '__iter__', '_iter', '_calculate_keys', '__eq__', '__repr_args__', '__fields_set__', '__dict__', '__repr_name__', '__repr_str__', '__pretty__', '__repr__', '__rich_repr__', '__new__', '__getattribute__', '__delattr__', '__lt__', '__le__', '__ne__', '__gt__', '__ge__', '__reduce_ex__', '__reduce__', '__subclasshook__', '__init_subclass__', '__format__', '__sizeof__', '__dir__', '__class__']\n",
    "documents_nodes[0]\n",
    "------------------\n",
    "TextNode(\n",
    "    id_='82adfcdc-c025-4378-ba3e-5083b0d2e90d', embedding=None, \n",
    "    metadata={\n",
    "        'file_path': '/home/kushal/Projects/llmlegalassistant/INLP-WS23/datasets/articles/txts/21975A1201(01).txt', \n",
    "        'file_name': '21975A1201(01).txt', 'file_type': 'text/plain', 'file_size': 4154, 'creation_date': '2024-02-05', \n",
    "        'last_modified_date': '2024-02-05', 'last_accessed_date': '2024-02-25'\n",
    "    }, \n",
    "    excluded_embed_metadata_keys=['file_name', 'file_type', 'file_size', 'creation_date', 'last_modified_date', 'last_accessed_date'], \n",
    "    excluded_llm_metadata_keys=['file_name', 'file_type', 'file_size', 'creation_date', 'last_modified_date', 'last_accessed_date'], \n",
    "    relationships={\n",
    "        <NodeRelationship.SOURCE: '1'>: RelatedNodeInfo(node_id='c9db0fe2-4ef1-436e-8d45-9752626a219e', node_type=<ObjectType.DOCUMENT: '4'>, \n",
    "        metadata={\n",
    "            'file_path': '/home/kushal/Projects/llmlegalassistant/INLP-WS23/datasets/articles/txts/21975A1201(01).txt', \n",
    "            'file_name': '21975A1201(01).txt', 'file_type': 'text/plain', 'file_size': 4154, 'creation_date': '2024-02-05', \n",
    "            'last_modified_date': '2024-02-05', 'last_accessed_date': '2024-02-25'\n",
    "        }, \n",
    "        hash='695bd9b63e620c6e7b18ef87e5a85ab4bcce79c01af6d51bc1c2532114b431c5'), \n",
    "        <NodeRelationship.NEXT: '3'>: RelatedNodeInfo(node_id='bf13439b-b868-4167-b573-d582d4ba12c2', node_type=<ObjectType.TEXT: '1'>, \n",
    "        metadata={}, hash='e3fba9736fe085f76cf67917226868a03a2111351da5984bc966b8bedfad6c3e')\n",
    "    }, \n",
    "    text='EUR-Lex - 21975A1201(01) - EN\\n\\n\\n\\n\\n\\n\\n\\nAvis juridique important\\n\\n\\n\\n\\n|\\n\\n\\n\\n21975A1201(01)\\n\\nCooperation Agreement between the European Atomic Energy Community and the International Atomic Energy Agency  \\n\\n\\nOfficial Journal L 329 , 23/12/1975 P. 0028 - 0029 Finnish special edition: Chapter 11 Volume 3 P. 0006  Swedish special edition: Chapter 11 Volume 3 P. 0006  Spanish special edition: Chapter 12 Volume 2 P. 0092  Portuguese special edition Chapter 12 Volume 2 P. 0092  \\n\\n\\n\\n\\n\\nCOOPERATION AGREEMENT BETWEEN THE EUROPEAN ATOMIC ENERGY COMMUNITY AND THE INTERNATIONAL ATOMIC ENERGY AGENCY (75/780/Euratom)   Article I  Cooperation and consultation  The International Atomic Energy Agency (hereinafter referred to as \"the Agency\") and the European Atomic Energy Community (hereinafter referred to as \"the Community\"), with a view to promoting the attainment of the objectives laid down by the Statute of the Agency and the Treaty establishing the Community, agree to act in close cooperation. The Contracting Parties shall consult each other regularly on matters of mutual interest with a view to harmonizing their efforts, as far as possible, having due regard to their respective characters and objectives.     Article II  Representation  1. The Community shall be invited to be represented at the regular annual sessions of the General Conference of the Agency and its representatives may participate, without the right to vote, in the deliberations of that body and, where appropriate, of its committees with respect to items on their agenda in which the Community has an interest.   2. The Agency and the Community shall also make any necessary arrangements for ensuring reciprocal representation at appropriate meetings convened under their respective auspices.     Article III  Exchange of information and documents  The Agency and the Community shall undertake a full exchange of information and documents, subject to such restrictions and arrangements as may be considered necessary by either Contracting Party to preserve the confidential nature of certain information and documents.', \n",
    "    start_char_idx=12, end_char_idx=2101, text_template='{metadata_str}\\n\\n{content}', metadata_template='{key}: {value}', metadata_seperator='\\n'\n",
    ")\n",
    "\"\"\""
   ]
  }
 ],
 "metadata": {
  "kernelspec": {
   "display_name": "nlptrans.env",
   "language": "python",
   "name": "python3"
  },
  "language_info": {
   "codemirror_mode": {
    "name": "ipython",
    "version": 3
   },
   "file_extension": ".py",
   "mimetype": "text/x-python",
   "name": "python",
   "nbconvert_exporter": "python",
   "pygments_lexer": "ipython3",
   "version": "3.11.7"
  }
 },
 "nbformat": 4,
 "nbformat_minor": 2
}
