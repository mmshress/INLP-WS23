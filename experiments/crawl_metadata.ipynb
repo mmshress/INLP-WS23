{
 "cells": [
  {
   "cell_type": "code",
   "execution_count": 5,
   "metadata": {},
   "outputs": [],
   "source": [
    "import pandas as pd"
   ]
  },
  {
   "cell_type": "code",
   "execution_count": 33,
   "metadata": {},
   "outputs": [
    {
     "name": "stdout",
     "output_type": "stream",
     "text": [
      "     CELEX number                                           Category\n",
      "0  21959A1006(01)  search-results-emailed.csv, international-agre...\n",
      "1  21959A1006(02)                         search-results-emailed.csv\n",
      "2  21961A0126(01)  search-results-emailed.csv, international-agre...\n",
      "3  21975A1201(01)  search-results-emailed.csv, international-agre...\n",
      "4  21978A0116(01)  search-results-emailed.csv, exchange-of-letter...\n",
      "522\n"
     ]
    }
   ],
   "source": [
    "from os import listdir\n",
    "from os.path import isfile, join\n",
    "onlyfiles = [\"./data/\" + f for f in listdir(\"./data/\") if isfile(join(\"./data/\", f))]\n",
    "if (len(onlyfiles) > 0):\n",
    "    concatted_csv = pd.read_csv(onlyfiles[0])\n",
    "    concatted_csv['Category'] = onlyfiles[0].replace(\"./data/\", \"\")\n",
    "    for i in range(1, len(onlyfiles)):\n",
    "        current_csv = pd.read_csv(onlyfiles[i])\n",
    "        current_csv['Category'] = onlyfiles[i].replace(\"./data/\", \"\")\n",
    "        concatted_csv = pd.concat([concatted_csv, current_csv])\n",
    "\n",
    "concatted_csv = concatted_csv.groupby('CELEX number')['Category'].agg(lambda x: ', '.join(x)).reset_index()\n",
    "print(concatted_csv.head())\n",
    "print(len(concatted_csv))\n",
    "\n",
    "concatted_csv.to_csv(\"./concatenated-CELEX-category.csv\")"
   ]
  }
 ],
 "metadata": {
  "kernelspec": {
   "display_name": "Python 3 (ipykernel)",
   "language": "python",
   "name": "python3"
  },
  "language_info": {
   "codemirror_mode": {
    "name": "ipython",
    "version": 3
   },
   "file_extension": ".py",
   "mimetype": "text/x-python",
   "name": "python",
   "nbconvert_exporter": "python",
   "pygments_lexer": "ipython3",
   "version": "3.10.9"
  }
 },
 "nbformat": 4,
 "nbformat_minor": 2
}
