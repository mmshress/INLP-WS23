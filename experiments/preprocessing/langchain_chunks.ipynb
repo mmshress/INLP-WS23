{
 "cells": [
  {
   "cell_type": "code",
   "execution_count": 1,
   "metadata": {},
   "outputs": [],
   "source": [
    "import json"
   ]
  },
  {
   "cell_type": "code",
   "execution_count": 2,
   "metadata": {},
   "outputs": [],
   "source": [
    "# This is a long document we can split up.\n",
    "with open(\"../test-data/txts/32008R1099-paged-formated-PyPDF2.txt\") as f: \n",
    "    state_of_the_union = f.read()\n",
    "\n",
    "documents = []\n",
    "with open(\"../test-data/chunks/annex/annex.jsonl\", \"r\") as jsonfile:\n",
    "    documents = json.loads(jsonfile.read())"
   ]
  },
  {
   "cell_type": "markdown",
   "metadata": {},
   "source": [
    "## Recursive Character Text Splitter"
   ]
  },
  {
   "cell_type": "code",
   "execution_count": 3,
   "metadata": {},
   "outputs": [],
   "source": [
    "from langchain.text_splitter import RecursiveCharacterTextSplitter"
   ]
  },
  {
   "cell_type": "code",
   "execution_count": 4,
   "metadata": {},
   "outputs": [],
   "source": [
    "text_splitter = RecursiveCharacterTextSplitter(\n",
    "    separators=[\"====================\"],\n",
    "    chunk_size = 1024,\n",
    "    chunk_overlap = 20,\n",
    "    length_function=len,\n",
    "    is_separator_regex=False\n",
    ")"
   ]
  },
  {
   "cell_type": "code",
   "execution_count": 5,
   "metadata": {},
   "outputs": [
    {
     "name": "stdout",
     "output_type": "stream",
     "text": [
      "page_content='I'\n",
      "page_content='('\n"
     ]
    }
   ],
   "source": [
    "texts = text_splitter.create_documents(state_of_the_union)\n",
    "print(texts[0])\n",
    "print(texts[1])"
   ]
  },
  {
   "cell_type": "markdown",
   "metadata": {},
   "source": [
    "## Semantic text splitter"
   ]
  },
  {
   "cell_type": "code",
   "execution_count": 74,
   "metadata": {},
   "outputs": [],
   "source": [
    "# with open(\"../test-data/txts/32023R1640.txt\", \"r\") as f:\n",
    "#     state_of_the_union = f.read()\n",
    "with open(\"../test-data/txts/21981A1218(05).txt\", \"r\") as f:\n",
    "    state_of_the_union = f.read()"
   ]
  },
  {
   "cell_type": "code",
   "execution_count": 75,
   "metadata": {},
   "outputs": [],
   "source": [
    "from langchain_experimental.text_splitter import SemanticChunker\n",
    "from langchain.embeddings import GPT4AllEmbeddings, OllamaEmbeddings"
   ]
  },
  {
   "cell_type": "code",
   "execution_count": 76,
   "metadata": {},
   "outputs": [],
   "source": [
    "with open(\"/home/kushal/Projects/llmcoder/23ws-LLMcoder/key.txt\") as keyfile:\n",
    "    openai_api_key = keyfile.read()"
   ]
  },
  {
   "cell_type": "code",
   "execution_count": 77,
   "metadata": {},
   "outputs": [
    {
     "name": "stdout",
     "output_type": "stream",
     "text": [
      "bert_load_from_file: gguf version     = 2\n",
      "bert_load_from_file: gguf alignment   = 32\n",
      "bert_load_from_file: gguf data offset = 695552\n",
      "bert_load_from_file: model name           = BERT\n",
      "bert_load_from_file: model architecture   = bert\n",
      "bert_load_from_file: model file type      = 1\n",
      "bert_load_from_file: bert tokenizer vocab = 30522\n"
     ]
    }
   ],
   "source": [
    "gpt4all_splitter = SemanticChunker(GPT4AllEmbeddings())"
   ]
  },
  {
   "cell_type": "code",
   "execution_count": 78,
   "metadata": {},
   "outputs": [],
   "source": [
    "# ollama_splitter = SemanticChunker(OllamaEmbeddings(base_url=\"http://localhost:11434\"))"
   ]
  },
  {
   "cell_type": "code",
   "execution_count": null,
   "metadata": {},
   "outputs": [],
   "source": []
  },
  {
   "cell_type": "code",
   "execution_count": 79,
   "metadata": {},
   "outputs": [],
   "source": [
    "# model = AutoModelForCausalLM.from_pretrained(\"/home/kushal/llms/llama/llama/tokenizer.model\")"
   ]
  },
  {
   "cell_type": "code",
   "execution_count": 80,
   "metadata": {},
   "outputs": [],
   "source": [
    "# with open(\"/home/kushal/llms/llama/llama/tokenizer.model\") as file:\n",
    "#     ollama_tokenizer_model = file.read()"
   ]
  },
  {
   "cell_type": "code",
   "execution_count": 81,
   "metadata": {},
   "outputs": [],
   "source": [
    "gpt4all_documents = gpt4all_splitter.create_documents([state_of_the_union])\n",
    "# ollama_documents = ollama_splitter.create_documents([state_of_the_union])"
   ]
  },
  {
   "cell_type": "code",
   "execution_count": 82,
   "metadata": {},
   "outputs": [],
   "source": [
    "# ollama_documents[0]"
   ]
  },
  {
   "cell_type": "code",
   "execution_count": 83,
   "metadata": {},
   "outputs": [
    {
     "name": "stdout",
     "output_type": "stream",
     "text": [
      "page_content='\\n\\n\\n\\n\\n\\nL_1982027EN.01002501.xml\\n\\n\\n\\n\\n\\n\\n\\n\\n\\n\\n\\n4.2.1982\\xa0\\xa0\\xa0\\n\\n\\nEN\\n\\n\\nOfficial Journal of the European Communities\\n\\n\\nL 27/25\\n\\n\\n\\n\\n\\nAGREEMENT\\nin the form of an exchange of letters between the European Atomic Energy Community (Euratom) and the Government of Canada intended to replace the ‘Interim Arrangement concerning enrichment, reprocessing and subsequent storage of nuclear material within the Community and Canada’ constituting Annex C of the Agreement in the form of an exchange of letters of 16 January 1978 between Euratom and the Government of Canada\\n(82/52/Euratom)\\nBrussels, 18 December 1981\\nSir,\\n\\n\\n\\n\\n\\n\\n1. I have the honour to refer to the 16 January 1978 exchange of letters between the Government of Canada and the European Atomic Energy Community (Euratom) (hereinafter referred to as the exchange of letters) amending the Agreement between the Government of Canada and the European Atomic Energy Community for cooperation in the peaceful uses of atomic energy of 6 October 1959, (hereinafter referred to as the Agreement) particularly in so far as it relates to safeguards (followed by an additional exchange of letters). I specifically refer to paragraph (e) of the exchange of letters which states that:\\n‘Material referred to in paragraph (c) shall be enriched beyond 20 % or reprocessed and plutonium or uranium enriched beyond 20 % shall be stored only according to conditions agreed upon in writing between the parties (see Annex C: Interim Arrangement concerning enrichment, reprocessing and subsequent storage of nuclear material within the Community and Canada).’\\nParagraph 5 of Annex C states that the parties would commence negotiations as soon as possible after 31 December 1979, or the termination of the INFCE study, whichever was earlier, with a view to replacing the Interim Arrangement by other arrangements that would take into account inter alia any results of the INFCE studies in relation to the operations in question. Wilhelm Haferkamp,\\nVice President of the\\nCommission of the European Communities,\\n200 rue de la Loi,\\nB-1049 Brussels\\n\\n\\n\\n\\n\\n\\n2. These negotiations have now been completed and I have the honour to propose that the guidelines set forth below should cover reprocessing and plutonium storage and use:\\n\\n\\n\\n\\n\\n\\n(a)\\n\\n\\nan effective commitment to non-proliferation should have been made and should continue to be maintained by the party envisaging reprocessing and plutonium storage and use;\\n\\n\\n\\n\\n\\n\\n\\n\\n\\n\\n(b)\\n\\n\\nall nuclear material subject to a peaceful uses commitment in facilities involved in reprocessing and the storage and use of plutonium should be subject to IAEA safeguards;\\n\\n\\n\\n\\n\\n\\n\\n\\n\\n\\n(c)\\n\\n\\nall nuclear material subject to a peaceful uses commitment in facilities involved in reprocessing and the subsequent storage and use activities, including related transport, should be subject to adequate physical protection measures;\\n\\n\\n\\n\\n\\n\\n\\n\\n\\n\\n(d)\\n\\n\\nmutually satisfactory notification and material reporting procedures should be in place between the parties;\\n\\n\\n\\n\\n\\n\\n\\n\\n\\n\\n(e)\\n\\n\\na description of the current and planned nuclear energy programme including in particular a detailed description of the policy, legal and regulatory elements relevant to reprocessing and plutonium storage and use should be provided by the party envisaging such activities;\\n\\n\\n\\n\\n\\n\\n\\n\\n\\n\\n(f)\\n\\n\\nthe parties should agree to periodic and timely consultations at which inter alia the information provided under guideline (e) should be updated and significant changes in the nuclear energy programme would receive the fullest possible consideration;\\n\\n\\n\\n\\n\\n\\n\\n\\n\\n\\n(g)\\n\\n\\nthe reprocessing and plutonium storage should only take place when the information provided on the nuclear energy programme of the party in question has been received, when the undertakings, arrangements and other information called for by the guidelines are in place or have been received and when the parties have agreed that the reprocessing and plutonium storage are an integral part of the described nuclear energy programme; where it is proposed to carry out reprocessing or storage of plutonium when these conditions are not met, the operation should take place only when the parties have so agreed after consultation, which should take place promptly to consider any such proposal;\\n\\n\\n\\n\\n\\n\\n\\n\\n\\n\\n(h)\\n\\n\\nthe reprocessing and plutonium storage envisaged should only take place so long as the commitment of the party in question to non-proliferation does not change and so long as the commitment to periodic and timely consultations referred to in guideline (f) is honoured. 3.'\n",
      "page_content=\"I note that Canada and the Community have agreed that the objectives of the above guidelines have been met. In particular I note that Canada and the Community and its Member States, to the extent of their respective competences, have made an effective commitment to non-proliferation and have submitted all relevant material to IAEA safeguards, and to adequate physical protection measures, in paragraphs (c) and (g) of the exchange of letters completed by the letters from Member States' foreign ministers to Canadian ambassadors on physical protection. I also note that the Community has provided Canada with the description of the current and planned nuclear energy programmes of the Community and of its Member States and that the notification and material reporting procedures have been settled. 4. Finally I note that these arrangements take into account inter alia the results of INFCE's studies in relation to the operations in question, as envisaged in paragraph 5 of Annex C to the exchange of letters. I note that the parties, in particular, acknowledge that the separation, storage, transportation and use of plutonium require particular measures to reduce the risk of nuclear proliferation; are determined to continue to support the development of international safeguards and other non-proliferation measures relevant to reprocessing and plutonium, including an effective and generally accepted international plutonium storage scheme; recognize the role of reprocessing in connection with the maximum use of available resources and the management of materials contained in spent fuel or other peaceful non-explosive uses, including research, in particular in the context of significant nuclear energy programmes; and desire the predictable and practical implementation of paragraph (e) of the exchange of letters taking into account both their determination to ensure the furtherance of the objective of non-proliferation and the long-term needs of the nuclear energy programmes of the parties. 5. I have the honour to inform the Commission that pursuant to the above, in accordance with paragraph (e) of the exchange of letters, the Government of Canada agrees that material subject to the Agreement may be reprocessed and plutonium stored within the framework of the current and planned nuclear energy programmes as described and up-dated from time to time by the Community and its Member States. 6. I have the honour to inform the Commission that the Agreement given by the Government of Canada in paragraph 5 will remain in force as long as the following conditions are met:\\n\\n\\n\\n\\n\\n\\n(i)\\n\\n\\nthat the Community maintain its commitment to non-proliferation with respect to guideline (a) which is set out in paragraph (c) of the exchange of letters, and\\n\\n\\n\\n\\n\\n\\n\\n\\n\\n\\n(ii)\\n\\n\\nthat the Community continue to consult with the Government of Canada, as provided for by the Agreement with a view to up-dating the described nuclear energy programmes and informing the Government of Canada of any significant changes. 7. Paragraph (e) of the exchange of letters provides that material subject to the Agreement shall be enriched beyond 20 % and that uranium enriched beyond 20 % shall be stored only according to conditions agreed upon in writing between the parties. I have the honour to propose that the parties agree to consult within 40 days of the receipt of a request from either party to consider proposals for conditions to be agreed upon in writing according to which material subject to the Agreement may be enriched beyond 20 % or uranium enriched beyond 20 % may be stored. 8. I have the honour to confirm that the documents containing the descriptions of current and planned nuclear energy programmes of the Community and its Member States shall remain confidential to the Contracting Parties. 9. If the foregoing is acceptable to the European Atomic Energy Community, I have the honour to propose that this letter, which is authentic in both English and French, together with Your Excellency's reply to that effect shall constitute the Agreement required by paragraph (e) of the exchange of letters, and replace both Annex C thereto and the 23 December 1980 exchange of letters. This Agreement shall take effect as of the date of Your Excellency's reply to this letter. Please accept, Sir, the assurance of my highest consideration. Brussels, 18 December 1981\\nYour Excellency,\\nI have the honour to acknowledge receipt of your letter of todays date which reads as follows:\\n\\n\\n\\n\\n\\n\\n\\n‘1. I have the honour to refer to the 16 January 1978 exchange of letters between the Government of Canada and the European Atomic Energy Community (Euratom) (hereinafter referred to as the exchange of letters) amending the Agreement between the Government of Canada and the European Atomic Energy Community for cooperation in the peaceful uses of atomic energy of 6 October 1959 (hereinafter referred to as the Agreement) particularly in so far as it relates to safeguards (followed by an additional exchange of letters). I specifically refer to paragraph (e) of the exchange of letters which states that:\\n“Material referred to in paragraph (c) shall be enriched beyond 20 % or reprocessed and plutonium or uranium enriched beyond 20 % shall be stored only according to conditions agreed upon in writing between the parties (see Annex C: Interim Arrangement concerning enrichment, reprocessing and subsequent storage of nuclear material within the Community and Canada).”\\nParagraph 5 of Annex C states that the parties would commence negotiations as soon as possible after 31 December 1979, or the termination of the INFCE study, whichever was earlier, with a view to replacing the Interim Arrangement by other arrangements that would take into account inter alia any results of the INFCE studies in relation to the operations in question. 2. These negotiations have now been completed and I have the honour to propose that the guidelines set forth below should cover reprocessing and plutonium storage and use:\\n\\n\\n\\n\\n\\n\\n(a)\\n\\n\\nan effective commitment to non-proliferation should have been made and should continue to be maintained by the party envisaging reprocessing and plutonium storage and use;\\n\\n\\n\\n\\n\\n\\n\\n\\n\\n\\n(b)\\n\\n\\nall nuclear material subject to a peaceful uses commitment in facilities involved in reprocessing and the storage and use of plutonium should be subject to IAEA safeguards;\\n\\n\\n\\n\\n\\n\\n\\n\\n\\n\\n(c)\\n\\n\\nall nuclear material subject to a peaceful uses commitment in facilities involved in reprocessing and the subsequent storage and use activities, including related transport, should be subject to adequate physical protection measures;\\n\\n\\n\\n\\n\\n\\n\\n\\n\\n\\n(d)\\n\\n\\nmutually satisfactory notification and material reporting procedures should be in place between the parties;\\n\\n\\n\\n\\nMr Richard Tait,\\nAmbassador Extraordinary and Plenipotentiary,\\nHead of the Canadian Mission to the European Communities\\n\\n\\n\\n\\n\\n\\n(e)\\n\\n\\na description of the current and planned nuclear energy programme including in particular a detailed description of the policy, legal and regulatory elements relevant to reprocessing and plutonium storage and use should be provided by the party envisaging such activities;\\n\\n\\n\\n\\n\\n\\n\\n\\n\\n\\n(f)\\n\\n\\nthe parties should agree to periodic and timely consultations at which inter alia the information provided under guideline (e) above would be updated and significant changes in the nuclear energy programme would receive the fullest possible consideration;\\n\\n\\n\\n\\n\\n\\n\\n\\n\\n\\n(g)\\n\\n\\nthe reprocessing and plutonium storage should only take place when the information provided on the nuclear energy programme of the party in question has been received, when the undertakings, arrangements and other information called for by the guidelines are in place or have been received and when the parties have agreed that reprocessing and plutonium storage are an integral part of the described nuclear energy programme; where it is proposed to carry out reprocessing or storage of plutonium when these conditions are not met, the operation should take place only when the parties have so agreed after consultation, which should take place promptly to consider any such proposal;\\n\\n\\n\\n\\n\\n\\n\\n\\n\\n\\n(h)\\n\\n\\nthe reprocessing and plutonium storage envisaged should only take place so long as the commitment of the party in question to non-proliferation does not change and so long as the commitment to periodic and timely consultations referred to in guideline (f) is honoured. 3.\"\n",
      "page_content=\"I note that Canada and the Community have agreed that the objectives of the above guidelines have been met. In particular I note that Canada and the Community and its Member States, to the extent of their respective competences, have made an effective commitment to non-proliferation and have submitted all relevant material to IAEA safeguards, and to adequate physical protection measures in paragraphs (c) and (g) of the exchange of letters completed by the letters from Member States' foreign ministers to Canadian ambassadors on physical protection. I also note that the Community has provided Canada with the description of the current and planned nuclear energy programmes of the Community and of its Member States and that the notification and material reporting procedures have been settled. 4. Finally I note that these arrangements take into account inter alia the results of INFCE's studies in relation to the operations in question as, envisaged in paragraph 5 of Annex C to the exchange of letters. I note that the parties, in particular acknowledge that the separation, storage transportation and use of plutonium require particular measures to reduce the risk of nuclear proliferation; are determined to continue to support the development of international safeguards and other non-proliferation measures relevant to reprocessing and plutonium including an effective and generally accepted international plutonium storage scheme; recognize the role of reprocessing in connection with the maximum use of available resources and the management of materials contained in spent fuel or other peaceful non-explosive uses, including research, in particular in the context of significant nuclear energy programmes; and desire the predictable and practical implementation of paragraph (e) of the exchange of letters taking into account both their determination to ensure the furtherance of the objective of non-proliferation and the long-term needs of the nuclear energy programmes of the parties. 5. I have the honour to inform the Commission that pursuant to the above, in accordance with paragraph (e) of the exchange of letters, the Government of Canada agrees that material subject to the Agreement may be reprocessed and plutonium stored within the framework of the current and planned nuclear energy programmes as described and up-dated from time-to-time by the Community and its Member States. 6. I have the honour to inform the Commission that the agreement given by the Government of Canada in paragraph 5 will remain in force as long as the following conditions are met:\\n\\n\\n\\n\\n\\n\\n(i)\\n\\n\\nthat the Community maintain its commitment to non-proliferation with respect to guideline (a) which is set out in paragraph (c) of the exchange of letters, and\\n\\n\\n\\n\\n\\n\\n\\n\\n\\n\\n(ii)\\n\\n\\nthat the Community continue to consult with the Government of Canada, as provided for by the Agreement, with a view to up-dating the described nuclear energy programmes and informing the Government of Canada of any significant changes. 7. Paragraph (e) of the exchange of letters provides that material subject to the Agreement shall be enriched beyond 20 % and that uranium enriched beyond 20 % shall be stored only according to conditions agreed upon in writing between the parties. I have the honour to propose that the parties agree to consult within 40 days of the receipt of a request from either party to consider proposals for conditions to be agreed upon in writing according to which material subject to the Agreement may be enriched beyond 20 % or uranium enriched beyond 20 % may be stored. 8. I have the honour to confirm that the documents containing the descriptions of current and planned nuclear energy programmes of the Community and its Member States shall remain confidential to the Contracting Parties. 9. If the foregoing is acceptable to the European Atomic Energy Community, I have the honour to propose that this letter, which is authentic in both English and French, together with Your Excellency's reply to that effect shall constitute the agreement required by paragraph (e) of the exchange of letters and replace both Annex C thereto and the 23 December 1980 exchange of letters. This Agreement shall take effect as of the date of Your Excellency's reply to this letter.’\\n\\n\\n\\n\\n\\nI have further the honour to inform Your Excellency that the European Atomic Energy Community takes note of the guidelines set forth by the Canadian Government in Your Excellency's letter and accepts that they should cover the reprocessing of material subject to the Agreement and the storage of plutonium so obtained and agrees that Your Excellency's letter and this reply shall constitute the agreement required by paragraph (e) of the exchange of letters and replace both Annex C thereto and the 23 December 1980 exchange of letters. Please accept, Your Excellency, the assurance of my highest consideration.\"\n",
      "page_content=''\n"
     ]
    }
   ],
   "source": [
    "with open(\"../test-data/chunks/gpt4all-langchain-semantic.txt\", \"w\") as file:\n",
    "    for gpt4all_document in gpt4all_documents:\n",
    "        print(gpt4all_document)\n",
    "        # file.write(\"\\n==========\\n\"+document.values())\n",
    "\n",
    "# with open(\"../test-data/chunks/ollama-langchain-semantic.txt\", \"w\") as file:\n",
    "#     for document in ollama_documents:\n",
    "#         file.write(\"\\n==========\\n\"+document)"
   ]
  }
 ],
 "metadata": {
  "kernelspec": {
   "display_name": "nlptrans.env",
   "language": "python",
   "name": "python3"
  },
  "language_info": {
   "codemirror_mode": {
    "name": "ipython",
    "version": 3
   },
   "file_extension": ".py",
   "mimetype": "text/x-python",
   "name": "python",
   "nbconvert_exporter": "python",
   "pygments_lexer": "ipython3",
   "version": "3.11.6"
  }
 },
 "nbformat": 4,
 "nbformat_minor": 2
}
