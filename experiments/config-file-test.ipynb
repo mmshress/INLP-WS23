{
 "cells": [
  {
   "cell_type": "code",
   "execution_count": 84,
   "metadata": {},
   "outputs": [],
   "source": [
    "import yaml"
   ]
  },
  {
   "cell_type": "code",
   "execution_count": 85,
   "metadata": {},
   "outputs": [],
   "source": [
    "with open(\"test-data/test-configs/recursive_512_50__gpt4all__vindex_10_1__llama_7b.yaml\", \"r\") as configfile:\n",
    "    config = yaml.safe_load(configfile)"
   ]
  },
  {
   "cell_type": "code",
   "execution_count": 86,
   "metadata": {},
   "outputs": [
    {
     "name": "stdout",
     "output_type": "stream",
     "text": [
      "RecursiveCharacterTextSplitter 512 50\n",
      "GPT4All\n",
      "opensearch recursive_gpt4all_50\n",
      "VectorIndexRetriever 10 1\n",
      "llama 7b\n"
     ]
    }
   ],
   "source": [
    "# for text splitter\n",
    "print(config[\"splitter\"][\"type\"], config[\"splitter\"][\"chunk_size\"], config[\"splitter\"][\"overlap_size\"])\n",
    "print(config[\"embed\"])\n",
    "print(config[\"store\"][\"type\"], config[\"store\"][\"index\"])\n",
    "print(config[\"retriever\"][\"type\"], config[\"retriever\"][\"top_k\"], config[\"retriever\"][\"num_queries\"])\n",
    "print(config[\"model\"][\"name\"], config[\"model\"][\"type\"])"
   ]
  },
  {
   "cell_type": "code",
   "execution_count": 104,
   "metadata": {},
   "outputs": [],
   "source": [
    "with open(\"test-data/test-configs/configs.yaml\", \"r\") as configfiles:\n",
    "    configs = yaml.safe_load(configfiles)"
   ]
  },
  {
   "cell_type": "code",
   "execution_count": 107,
   "metadata": {},
   "outputs": [
    {
     "name": "stdout",
     "output_type": "stream",
     "text": [
      "recursive_512_50__gpt4all__vindex_10_1__llama_7b\n",
      "RecursiveCharacterTextSplitter 512 50\n",
      "GPT4All\n",
      "Opensearch recursive_gpt4all_512_50\n",
      "VectorIndexRetriever 10 1\n"
     ]
    }
   ],
   "source": [
    "print(configs[0][\"config\"])\n",
    "print(configs[0][\"splitter\"][\"type\"], configs[0][\"splitter\"][\"chunk_size\"], configs[0][\"splitter\"][\"overlap_size\"])\n",
    "print(configs[0][\"embed\"])\n",
    "print(configs[0][\"store\"][\"type\"], configs[0][\"store\"][\"index\"])\n",
    "print(configs[0][\"retriever\"][\"type\"], configs[0][\"retriever\"][\"top_k\"], configs[0][\"retriever\"][\"num_queries\"])"
   ]
  },
  {
   "cell_type": "code",
   "execution_count": 108,
   "metadata": {},
   "outputs": [
    {
     "name": "stdout",
     "output_type": "stream",
     "text": [
      "sentence_512_50__gpt4all__vindex_10_1__llama_7b\n",
      "SentenceSplitter 512 50\n",
      "GPT4All\n",
      "Opensearch sentence_gpt4all_512_50\n",
      "VectorIndexRetriever 10 1\n"
     ]
    }
   ],
   "source": [
    "print(configs[1][\"config\"])\n",
    "print(configs[1][\"splitter\"][\"type\"], configs[1][\"splitter\"]['chunk_size'], configs[1][\"splitter\"][\"overlap_size\"])\n",
    "print(configs[1][\"embed\"])\n",
    "print(configs[1][\"store\"][\"type\"], configs[1][\"store\"][\"index\"])\n",
    "print(configs[1][\"retriever\"][\"type\"], configs[1][\"retriever\"][\"top_k\"], configs[1][\"retriever\"][\"num_queries\"])"
   ]
  }
 ],
 "metadata": {
  "kernelspec": {
   "display_name": "nlptrans.env",
   "language": "python",
   "name": "python3"
  },
  "language_info": {
   "codemirror_mode": {
    "name": "ipython",
    "version": 3
   },
   "file_extension": ".py",
   "mimetype": "text/x-python",
   "name": "python",
   "nbconvert_exporter": "python",
   "pygments_lexer": "ipython3",
   "version": "3.11.7"
  }
 },
 "nbformat": 4,
 "nbformat_minor": 2
}
