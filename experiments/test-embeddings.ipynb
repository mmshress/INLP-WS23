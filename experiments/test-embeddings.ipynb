{
 "cells": [
  {
   "cell_type": "code",
   "execution_count": 1,
   "metadata": {},
   "outputs": [],
   "source": [
    "import re\n",
    "import json\n",
    "\n",
    "from bs4 import BeautifulSoup\n",
    "from bs4.element import NavigableString, Tag"
   ]
  },
  {
   "cell_type": "code",
   "execution_count": 2,
   "metadata": {},
   "outputs": [],
   "source": [
    "with open(\"/home/kushal/Projects/llmlegalassistant/INLP-WS23/datasets/articles/htmls/31961D1009.html\", \"rb\") as htmlfile:\n",
    "    html_doc = htmlfile.read()"
   ]
  },
  {
   "cell_type": "code",
   "execution_count": 3,
   "metadata": {},
   "outputs": [],
   "source": [
    "html_soup = BeautifulSoup(html_doc, \"html.parser\")"
   ]
  },
  {
   "cell_type": "code",
   "execution_count": 4,
   "metadata": {},
   "outputs": [],
   "source": [
    "def extract_annex_segments(html_soup):\n",
    "    annex_segments = []\n",
    "    for soup in html_soup:\n",
    "        if soup.name == \"html\":\n",
    "            for html in soup:\n",
    "                if html.name == \"body\":\n",
    "                    for tag in html:\n",
    "                        if \"span\" == tag.name:\n",
    "                            continue\n",
    "                        if \"ANNEX\" in tag.get_text():\n",
    "                            annex_segments.append(tag)\n",
    "\n",
    "    return annex_segments"
   ]
  },
  {
   "cell_type": "code",
   "execution_count": 5,
   "metadata": {},
   "outputs": [],
   "source": [
    "def get_tag_definitions(segments):\n",
    "    definitions = []\n",
    "    for segment in segments:\n",
    "        for child in segment:\n",
    "            # skip if it is a navigable string (e.g., <p></p> for newline)\n",
    "            if isinstance(child, NavigableString):\n",
    "                continue\n",
    "            # only process if the child is a tag\n",
    "            if isinstance(child, Tag):\n",
    "                if child.has_attr(\"class\"):\n",
    "                    if not (\"doc-ti\" in child[\"class\"] and \"ANNEX\" in child.get_text())  and \"ti-section-1\" in child[\"class\"]:\n",
    "                        definitions.append({\n",
    "                            \"id\": re.sub(\"\\n *\", \"\", child.string),\n",
    "                            \"title\": re.sub(\"\\n *\", \"\", child.findNext().string)\n",
    "                        })\n",
    "    return definitions"
   ]
  },
  {
   "cell_type": "code",
   "execution_count": 6,
   "metadata": {},
   "outputs": [
    {
     "name": "stdout",
     "output_type": "stream",
     "text": [
      "Last\n"
     ]
    },
    {
     "ename": "FileNotFoundError",
     "evalue": "[Errno 2] No such file or directory: './test-data/annex/annex.jsonl'",
     "output_type": "error",
     "traceback": [
      "\u001b[0;31m---------------------------------------------------------------------------\u001b[0m",
      "\u001b[0;31mFileNotFoundError\u001b[0m                         Traceback (most recent call last)",
      "\u001b[1;32m/home/kushal/Projects/llmlegalassistant/INLP-WS23/experiments/test-embeddings.ipynb Cell 6\u001b[0m line \u001b[0;36m4\n\u001b[1;32m     <a href='vscode-notebook-cell:/home/kushal/Projects/llmlegalassistant/INLP-WS23/experiments/test-embeddings.ipynb#X55sZmlsZQ%3D%3D?line=39'>40</a>\u001b[0m                     \u001b[39melif\u001b[39;00m annex_definition_body_flag:\n\u001b[1;32m     <a href='vscode-notebook-cell:/home/kushal/Projects/llmlegalassistant/INLP-WS23/experiments/test-embeddings.ipynb#X55sZmlsZQ%3D%3D?line=40'>41</a>\u001b[0m                         content \u001b[39m+\u001b[39m\u001b[39m=\u001b[39m child_string\n\u001b[0;32m---> <a href='vscode-notebook-cell:/home/kushal/Projects/llmlegalassistant/INLP-WS23/experiments/test-embeddings.ipynb#X55sZmlsZQ%3D%3D?line=42'>43</a>\u001b[0m \u001b[39mwith\u001b[39;00m \u001b[39mopen\u001b[39;49m(\u001b[39m\"\u001b[39;49m\u001b[39m./test-data/annex/annex.jsonl\u001b[39;49m\u001b[39m\"\u001b[39;49m, \u001b[39m\"\u001b[39;49m\u001b[39mw\u001b[39;49m\u001b[39m\"\u001b[39;49m) \u001b[39mas\u001b[39;00m jsonfile:\n\u001b[1;32m     <a href='vscode-notebook-cell:/home/kushal/Projects/llmlegalassistant/INLP-WS23/experiments/test-embeddings.ipynb#X55sZmlsZQ%3D%3D?line=43'>44</a>\u001b[0m     json\u001b[39m.\u001b[39mdump(annexes, jsonfile)\n",
      "File \u001b[0;32m~/.config/python.env/nlptrans.env/lib/python3.11/site-packages/IPython/core/interactiveshell.py:286\u001b[0m, in \u001b[0;36m_modified_open\u001b[0;34m(file, *args, **kwargs)\u001b[0m\n\u001b[1;32m    279\u001b[0m \u001b[39mif\u001b[39;00m file \u001b[39min\u001b[39;00m {\u001b[39m0\u001b[39m, \u001b[39m1\u001b[39m, \u001b[39m2\u001b[39m}:\n\u001b[1;32m    280\u001b[0m     \u001b[39mraise\u001b[39;00m \u001b[39mValueError\u001b[39;00m(\n\u001b[1;32m    281\u001b[0m         \u001b[39mf\u001b[39m\u001b[39m\"\u001b[39m\u001b[39mIPython won\u001b[39m\u001b[39m'\u001b[39m\u001b[39mt let you open fd=\u001b[39m\u001b[39m{\u001b[39;00mfile\u001b[39m}\u001b[39;00m\u001b[39m by default \u001b[39m\u001b[39m\"\u001b[39m\n\u001b[1;32m    282\u001b[0m         \u001b[39m\"\u001b[39m\u001b[39mas it is likely to crash IPython. If you know what you are doing, \u001b[39m\u001b[39m\"\u001b[39m\n\u001b[1;32m    283\u001b[0m         \u001b[39m\"\u001b[39m\u001b[39myou can use builtins\u001b[39m\u001b[39m'\u001b[39m\u001b[39m open.\u001b[39m\u001b[39m\"\u001b[39m\n\u001b[1;32m    284\u001b[0m     )\n\u001b[0;32m--> 286\u001b[0m \u001b[39mreturn\u001b[39;00m io_open(file, \u001b[39m*\u001b[39;49margs, \u001b[39m*\u001b[39;49m\u001b[39m*\u001b[39;49mkwargs)\n",
      "\u001b[0;31mFileNotFoundError\u001b[0m: [Errno 2] No such file or directory: './test-data/annex/annex.jsonl'"
     ]
    }
   ],
   "source": [
    "annex_segments = extract_annex_segments(html_soup)\n",
    "annex_definitions = get_tag_definitions(annex_segments)\n",
    "\n",
    "annexes = []\n",
    "for i, annex_definition in enumerate(annex_definitions):\n",
    "    for annex_segment in annex_segments:\n",
    "        content = \"\"\n",
    "        annex_definition_body_flag = False\n",
    "        for j, child in enumerate(annex_segment):\n",
    "                if isinstance(child, NavigableString):\n",
    "                    continue\n",
    "                if isinstance(child, Tag):\n",
    "                    # if child is empty\n",
    "                    if child.string is None:\n",
    "                        continue\n",
    "\n",
    "                    child_string = re.sub(\"\\n *\", \"\", child.string)\n",
    "\n",
    "                    if j+2 == len(annex_segment):\n",
    "                        print(\"Last\")\n",
    "                        annex_definition_body_flag = False\n",
    "                        annexes.append({\n",
    "                            \"id\": annex_definition[\"id\"],\n",
    "                            \"title\": content\n",
    "                        })\n",
    "                        content = \"\"\n",
    "                        break\n",
    "                    elif i+1 < len(annex_definitions) and annex_definitions[i+1][\"id\"] == child_string:\n",
    "                        annex_definition_body_flag = False\n",
    "                        annexes.append({\n",
    "                            \"id\": annex_definition[\"id\"],\n",
    "                            \"title\": content\n",
    "                        })\n",
    "                        content = \"\"\n",
    "                        break\n",
    "\n",
    "                    if annex_definition[\"id\"] == child_string:\n",
    "                        annex_definition_body_flag = True\n",
    "                        content = child_string + \" \"\n",
    "                    elif annex_definition_body_flag:\n",
    "                        content += child_string\n",
    "\n",
    "with open(\"./test-data/chunks/annex/annex.jsonl\", \"w\") as jsonfile:\n",
    "    json.dump(annexes, jsonfile)"
   ]
  },
  {
   "cell_type": "markdown",
   "metadata": {},
   "source": [
    "TITLE I Objects — Name — Seat — Duration\n",
    "TITLE II Capital — Shares\n",
    "TITLE III Administration of the Company\n",
    "TITLE IV Auditors\n",
    "TITLE V General meetings\n",
    "SECTION I Provisions applicable to both ordinary and extraordinary general meetings\n",
    "SECTION II Ordinary general meetings\n",
    "SECTION III Extraordinary general meetings\n",
    "TITLE VI Schedule of assets and liabilities — Distribution of Profits\n",
    "TITLE VII Dissolution — Winding Up\n",
    "TITLE VIII Disputes\n",
    "TITLE IX Transitional provisions"
   ]
  },
  {
   "cell_type": "markdown",
   "metadata": {},
   "source": [
    "['DEFAULT_INTERESTING_STRING_TYPES', 'EMPTY_ELEMENT_EVENT', 'END_ELEMENT_EVENT', 'START_ELEMENT_EVENT', 'STRING_ELEMENT_EVENT', '__bool__', '__call__', '__class__', '__contains__', '__copy__', '__deepcopy__', '__delattr__', '__delitem__', '__dict__', '__dir__', '__doc__', '__eq__', '__format__', '__ge__', '__getattr__', '__getattribute__', '__getitem__', '__getstate__', '__gt__', '__hash__', '__init__', '__init_subclass__', '__iter__', '__le__', '__len__', '__lt__', '__module__', '__ne__', '__new__', '__reduce__', '__reduce_ex__', '__repr__', '__setattr__', '__setitem__', '__sizeof__', '__str__', '__subclasshook__', '__unicode__', '__weakref__', '_all_strings', '_clone', '_event_stream', '_find_all', '_find_one', '_format_tag', '_indent_string', '_is_xml', '_lastRecursiveChild', '_last_descendant', '_namespaces', '_should_pretty_print', 'append', 'attrs', 'can_be_empty_element', 'cdata_list_attributes', 'childGenerator', 'children', 'clear', 'contents', 'css', 'decode', 'decode_contents', 'decompose', 'decomposed', 'default', 'descendants', 'encode', 'encode_contents', 'extend', 'extract', 'fetchNextSiblings', 'fetchParents', 'fetchPrevious', 'fetchPreviousSiblings', 'find', 'findAll', 'findAllNext', 'findAllPrevious', 'findChild', 'findChildren', 'findNext', 'findNextSibling', 'findNextSiblings', 'findParent', 'findParents', 'findPrevious', 'findPreviousSibling', 'findPreviousSiblings', 'find_all', 'find_all_next', 'find_all_previous', 'find_next', 'find_next_sibling', 'find_next_siblings', 'find_parent', 'find_parents', 'find_previous', 'find_previous_sibling', 'find_previous_siblings', 'format_string', 'formatter_for_name', 'get', 'getText', 'get_attribute_list', 'get_text', 'has_attr', 'has_key', 'hidden', 'index', 'insert', 'insert_after', 'insert_before', 'interesting_string_types', 'isSelfClosing', 'is_empty_element', 'known_xml', 'name', 'namespace', 'next', 'nextGenerator', 'nextSibling', 'nextSiblingGenerator', 'next_element', 'next_elements', 'next_sibling', 'next_siblings', 'parent', 'parentGenerator', 'parents', 'parserClass', 'parser_class', 'prefix', 'preserve_whitespace_tags', 'prettify', 'previous', 'previousGenerator', 'previousSibling', 'previousSiblingGenerator', 'previous_element', 'previous_elements', 'previous_sibling', 'previous_siblings', 'recursiveChildGenerator', 'renderContents', 'replaceWith', 'replaceWithChildren', 'replace_with', 'replace_with_children', 'select', 'select_one', 'self_and_descendants', 'setup', 'smooth', 'sourceline', 'sourcepos', 'string', 'strings', 'stripped_strings', 'text', 'unwrap', 'wrap']\n"
   ]
  }
 ],
 "metadata": {
  "kernelspec": {
   "display_name": "nlptrans.env",
   "language": "python",
   "name": "python3"
  },
  "language_info": {
   "codemirror_mode": {
    "name": "ipython",
    "version": 3
   },
   "file_extension": ".py",
   "mimetype": "text/x-python",
   "name": "python",
   "nbconvert_exporter": "python",
   "pygments_lexer": "ipython3",
   "version": "3.11.6"
  }
 },
 "nbformat": 4,
 "nbformat_minor": 2
}
