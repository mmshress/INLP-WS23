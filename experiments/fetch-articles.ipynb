{
 "cells": [
  {
   "cell_type": "code",
   "execution_count": 1,
   "metadata": {},
   "outputs": [],
   "source": [
    "import requests\n",
    "import pandas as pd\n",
    "from bs4 import BeautifulSoup"
   ]
  },
  {
   "cell_type": "code",
   "execution_count": 2,
   "metadata": {},
   "outputs": [],
   "source": [
    "# https://eur-lex.europa.eu/legal-content/EN/TXT/HTML/?uri=CELEX:32023L1791\n",
    "ARTICLE_URL = \"https://eur-lex.europa.eu/legal-content/EN/TXT/HTML/?uri=CELEX:\"\n",
    "ARTICLES_LOCATION = \"dataset/articles/\""
   ]
  },
  {
   "cell_type": "code",
   "execution_count": 3,
   "metadata": {},
   "outputs": [],
   "source": [
    "CELEX_NUMBERS = pd.read_csv(\"concatenated-CELEX-category.csv\", sep=\",\")\n",
    "CELEX_NUMBERS.columns = [\"Index\", \"CELEX_NUMBER\", \"Category\"]"
   ]
  },
  {
   "cell_type": "code",
   "execution_count": 16,
   "metadata": {},
   "outputs": [
    {
     "data": {
      "text/html": [
       "<div>\n",
       "<style scoped>\n",
       "    .dataframe tbody tr th:only-of-type {\n",
       "        vertical-align: middle;\n",
       "    }\n",
       "\n",
       "    .dataframe tbody tr th {\n",
       "        vertical-align: top;\n",
       "    }\n",
       "\n",
       "    .dataframe thead th {\n",
       "        text-align: right;\n",
       "    }\n",
       "</style>\n",
       "<table border=\"1\" class=\"dataframe\">\n",
       "  <thead>\n",
       "    <tr style=\"text-align: right;\">\n",
       "      <th></th>\n",
       "      <th>Index</th>\n",
       "      <th>CELEX_NUMBER</th>\n",
       "      <th>Category</th>\n",
       "    </tr>\n",
       "  </thead>\n",
       "  <tbody>\n",
       "    <tr>\n",
       "      <th>0</th>\n",
       "      <td>0</td>\n",
       "      <td>21959A1006(01)</td>\n",
       "      <td>search-results-emailed.csv, international-agre...</td>\n",
       "    </tr>\n",
       "    <tr>\n",
       "      <th>1</th>\n",
       "      <td>1</td>\n",
       "      <td>21959A1006(02)</td>\n",
       "      <td>search-results-emailed.csv</td>\n",
       "    </tr>\n",
       "    <tr>\n",
       "      <th>2</th>\n",
       "      <td>2</td>\n",
       "      <td>21961A0126(01)</td>\n",
       "      <td>search-results-emailed.csv, international-agre...</td>\n",
       "    </tr>\n",
       "    <tr>\n",
       "      <th>3</th>\n",
       "      <td>3</td>\n",
       "      <td>21975A1201(01)</td>\n",
       "      <td>search-results-emailed.csv, international-agre...</td>\n",
       "    </tr>\n",
       "    <tr>\n",
       "      <th>4</th>\n",
       "      <td>4</td>\n",
       "      <td>21978A0116(01)</td>\n",
       "      <td>search-results-emailed.csv, exchange-of-letter...</td>\n",
       "    </tr>\n",
       "  </tbody>\n",
       "</table>\n",
       "</div>"
      ],
      "text/plain": [
       "   Index    CELEX_NUMBER                                           Category\n",
       "0      0  21959A1006(01)  search-results-emailed.csv, international-agre...\n",
       "1      1  21959A1006(02)                         search-results-emailed.csv\n",
       "2      2  21961A0126(01)  search-results-emailed.csv, international-agre...\n",
       "3      3  21975A1201(01)  search-results-emailed.csv, international-agre...\n",
       "4      4  21978A0116(01)  search-results-emailed.csv, exchange-of-letter..."
      ]
     },
     "execution_count": 16,
     "metadata": {},
     "output_type": "execute_result"
    }
   ],
   "source": [
    "CELEX_NUMBERS.head()"
   ]
  },
  {
   "cell_type": "code",
   "execution_count": 8,
   "metadata": {},
   "outputs": [],
   "source": [
    "def format_html_article(html_file: str) -> str:\n",
    "    return BeautifulSoup(html_file, \"html.parser\").get_text()"
   ]
  },
  {
   "cell_type": "code",
   "execution_count": 12,
   "metadata": {},
   "outputs": [],
   "source": [
    "def save_file(file_name: str, file_type: str, file_content: str):\n",
    "    with open('.'.join([file_name, file_type]), \"w\") as file:\n",
    "        file.write(file_content)"
   ]
  },
  {
   "cell_type": "code",
   "execution_count": 14,
   "metadata": {},
   "outputs": [],
   "source": [
    "def fetch_all_articles(CELEX_NUMBERS: list[str]):\n",
    "    for CELEX_NUMBER in CELEX_NUMBERS:\n",
    "        html_article = requests.get(\"\".join([ARTICLE_URL, CELEX_NUMBER]))\n",
    "        formatted_html_article = format_html_article(html_article.text)\n",
    "        save_file('/'.join([ARTICLES_LOCATION, CELEX_NUMBER]), \"html\", formatted_html_article)"
   ]
  },
  {
   "cell_type": "code",
   "execution_count": 17,
   "metadata": {},
   "outputs": [],
   "source": [
    "fetch_all_articles(CELEX_NUMBERS.head(10)[\"CELEX_NUMBER\"])"
   ]
  }
 ],
 "metadata": {
  "kernelspec": {
   "display_name": "nlptrans.env",
   "language": "python",
   "name": "python3"
  },
  "language_info": {
   "codemirror_mode": {
    "name": "ipython",
    "version": 3
   },
   "file_extension": ".py",
   "mimetype": "text/x-python",
   "name": "python",
   "nbconvert_exporter": "python",
   "pygments_lexer": "ipython3",
   "version": "3.11.5"
  }
 },
 "nbformat": 4,
 "nbformat_minor": 2
}
