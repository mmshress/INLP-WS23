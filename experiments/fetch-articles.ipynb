{
 "cells": [
  {
   "cell_type": "code",
   "execution_count": 5,
   "metadata": {},
   "outputs": [],
   "source": [
    "import os\n",
    "import requests\n",
    "\n",
    "import pandas as pd\n",
    "\n",
    "from bs4 import BeautifulSoup\n",
    "from markdownify import markdownify as md"
   ]
  },
  {
   "cell_type": "code",
   "execution_count": 6,
   "metadata": {},
   "outputs": [],
   "source": [
    "# https://eur-lex.europa.eu/legal-content/EN/TXT/HTML/?uri=CELEX:32023L1791\n",
    "ARTICLE_URL = \"https://eur-lex.europa.eu/legal-content/EN/TXT/HTML/?uri=CELEX:\"\n",
    "ARTICLES_LOCATION = os.path.join(\"dataset\", \"articles\", \"html\")"
   ]
  },
  {
   "cell_type": "code",
   "execution_count": 15,
   "metadata": {},
   "outputs": [],
   "source": [
    "CELEX_NUMBERS = pd.read_csv(\"dataset/csvs/CELEXCategory.csv\", sep=\",\")\n",
    "CELEX_NUMBERS.columns = [\"Index\", \"CELEX_NUMBER\", \"Category\"]"
   ]
  },
  {
   "cell_type": "code",
   "execution_count": 16,
   "metadata": {},
   "outputs": [],
   "source": [
    "def format_html_article(html_file: str, output_type: str) -> str:\n",
    "    # make_file_dir(output_type)\n",
    "    if \"md\" == output_type:\n",
    "        return md(html_file)\n",
    "    elif \"html\" == output_type:\n",
    "        return BeautifulSoup(html_file, \"html.parser\").prettify()\n",
    "    else:\n",
    "        return BeautifulSoup(html_file, \"html.parser\").get_text()"
   ]
  },
  {
   "cell_type": "code",
   "execution_count": 23,
   "metadata": {},
   "outputs": [],
   "source": [
    "def save_file(file_name: str, file_type: str, file_content: str):\n",
    "    with open('.'.join([file_name, file_type]), \"w\") as file:\n",
    "        file.write(file_content)"
   ]
  },
  {
   "cell_type": "code",
   "execution_count": 24,
   "metadata": {},
   "outputs": [],
   "source": [
    "def fetch_all_articles(CELEX_NUMBERS: list[str], output_type: str):\n",
    "    for CELEX_NUMBER in CELEX_NUMBERS:\n",
    "        html_article = requests.get(\"\".join([ARTICLE_URL, CELEX_NUMBER]))\n",
    "        formatted_html_article = format_html_article(html_article.text, output_type)\n",
    "        save_file(os.path.join(ARTICLES_LOCATION, CELEX_NUMBER), output_type, formatted_html_article)"
   ]
  },
  {
   "cell_type": "code",
   "execution_count": 26,
   "metadata": {},
   "outputs": [],
   "source": [
    "# samples = CELEX_NUMBERS[CELEX_NUMBERS[\"CELEX_NUMBER\"] == \"32017R1485\"][\"CELEX_NUMBER\"]\n",
    "samples = CELEX_NUMBERS[\"CELEX_NUMBER\"]\n",
    "fetch_all_articles(samples, \"html\")"
   ]
  }
 ],
 "metadata": {
  "kernelspec": {
   "display_name": "nlptrans.env",
   "language": "python",
   "name": "python3"
  },
  "language_info": {
   "codemirror_mode": {
    "name": "ipython",
    "version": 3
   },
   "file_extension": ".py",
   "mimetype": "text/x-python",
   "name": "python",
   "nbconvert_exporter": "python",
   "pygments_lexer": "ipython3",
   "version": "3.11.5"
  }
 },
 "nbformat": 4,
 "nbformat_minor": 2
}
